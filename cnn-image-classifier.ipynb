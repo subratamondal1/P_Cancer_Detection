{
 "cells": [
  {
   "cell_type": "markdown",
   "id": "28344dd9",
   "metadata": {
    "papermill": {
     "duration": 0.013828,
     "end_time": "2023-08-26T09:15:25.585523",
     "exception": false,
     "start_time": "2023-08-26T09:15:25.571695",
     "status": "completed"
    },
    "tags": []
   },
   "source": [
    "# <center>[Histopathologic Cancer Detection](https://www.kaggle.com/competitions/histopathologic-cancer-detection/overview)</center>\n",
    "---"
   ]
  },
  {
   "cell_type": "markdown",
   "id": "cb6dc106",
   "metadata": {
    "papermill": {
     "duration": 0.011011,
     "end_time": "2023-08-26T09:15:25.608292",
     "exception": false,
     "start_time": "2023-08-26T09:15:25.597281",
     "status": "completed"
    },
    "tags": []
   },
   "source": [
    "## [About the data](https://www.kaggle.com/competitions/histopathologic-cancer-detection/data)\n",
    "In this dataset, you are provided with a large number of small pathology images to classify. Files are named with an image **`id`**. The **`train_labels.csv`** file provides the ground truth for the images in the **`train`** folder. You are predicting the labels for the images in the **`test`** folder. A **`positive label`** indicates that the center **`32x32px`** region of a patch contains at least one pixel of tumor tissue. Tumor tissue in the outer region of the patch does not influence the label. This outer region is provided to enable fully-convolutional models that do not use zero-padding, to ensure consistent behavior when applied to a whole-slide image.\n",
    "\n",
    "The original PCam dataset contains duplicate images due to its probabilistic sampling, however, the version presented on Kaggle does not contain duplicates. We have otherwise maintained the same data and splits as the PCam benchmark."
   ]
  },
  {
   "cell_type": "markdown",
   "id": "d3d013bb",
   "metadata": {
    "papermill": {
     "duration": 0.010843,
     "end_time": "2023-08-26T09:15:25.630633",
     "exception": false,
     "start_time": "2023-08-26T09:15:25.619790",
     "status": "completed"
    },
    "tags": []
   },
   "source": [
    "## Importing the packages"
   ]
  },
  {
   "cell_type": "code",
   "execution_count": 1,
   "id": "43df545c",
   "metadata": {
    "execution": {
     "iopub.execute_input": "2023-08-26T09:15:25.655589Z",
     "iopub.status.busy": "2023-08-26T09:15:25.654859Z",
     "iopub.status.idle": "2023-08-26T09:15:43.124660Z",
     "shell.execute_reply": "2023-08-26T09:15:43.123276Z"
    },
    "papermill": {
     "duration": 17.485545,
     "end_time": "2023-08-26T09:15:43.127336",
     "exception": false,
     "start_time": "2023-08-26T09:15:25.641791",
     "status": "completed"
    },
    "tags": []
   },
   "outputs": [
    {
     "name": "stderr",
     "output_type": "stream",
     "text": [
      "/opt/conda/lib/python3.10/site-packages/scipy/__init__.py:146: UserWarning: A NumPy version >=1.16.5 and <1.23.0 is required for this version of SciPy (detected version 1.23.5\n",
      "  warnings.warn(f\"A NumPy version >={np_minversion} and <{np_maxversion}\"\n",
      "/opt/conda/lib/python3.10/site-packages/tensorflow_io/python/ops/__init__.py:98: UserWarning: unable to load libtensorflow_io_plugins.so: unable to open file: libtensorflow_io_plugins.so, from paths: ['/opt/conda/lib/python3.10/site-packages/tensorflow_io/python/ops/libtensorflow_io_plugins.so']\n",
      "caused by: ['/opt/conda/lib/python3.10/site-packages/tensorflow_io/python/ops/libtensorflow_io_plugins.so: undefined symbol: _ZN3tsl6StatusC1EN10tensorflow5error4CodeESt17basic_string_viewIcSt11char_traitsIcEENS_14SourceLocationE']\n",
      "  warnings.warn(f\"unable to load libtensorflow_io_plugins.so: {e}\")\n",
      "/opt/conda/lib/python3.10/site-packages/tensorflow_io/python/ops/__init__.py:104: UserWarning: file system plugins are not loaded: unable to open file: libtensorflow_io.so, from paths: ['/opt/conda/lib/python3.10/site-packages/tensorflow_io/python/ops/libtensorflow_io.so']\n",
      "caused by: ['/opt/conda/lib/python3.10/site-packages/tensorflow_io/python/ops/libtensorflow_io.so: undefined symbol: _ZTVN10tensorflow13GcsFileSystemE']\n",
      "  warnings.warn(f\"file system plugins are not loaded: {e}\")\n"
     ]
    },
    {
     "name": "stdout",
     "output_type": "stream",
     "text": [
      "\n",
      "cpu\n"
     ]
    }
   ],
   "source": [
    "import os\n",
    "import shutil\n",
    "import pandas as pd\n",
    "import numpy as np\n",
    "from PIL import Image\n",
    "from sklearn.metrics import confusion_matrix\n",
    "from sklearn.model_selection import train_test_split\n",
    "import matplotlib.pyplot as plt\n",
    "import torch\n",
    "\n",
    "from torch import nn, optim\n",
    "from torch.utils.data import DataLoader, Dataset\n",
    "from torch.utils.data.sampler import SubsetRandomSampler\n",
    "from torchvision.datasets import ImageFolder\n",
    "import torchvision.transforms as T\n",
    "from torchvision.utils import make_grid\n",
    "from torchmetrics.functional import accuracy\n",
    "import pytorch_lightning as pl\n",
    "\n",
    "# Check if gpu support is available\n",
    "device = torch.device(\"cuda:0\" if torch.cuda.is_available() else \"cpu\")\n",
    "print()\n",
    "print(device)\n",
    "\n",
    "%matplotlib inline"
   ]
  },
  {
   "cell_type": "markdown",
   "id": "23726738",
   "metadata": {
    "papermill": {
     "duration": 0.011331,
     "end_time": "2023-08-26T09:15:43.150496",
     "exception": false,
     "start_time": "2023-08-26T09:15:43.139165",
     "status": "completed"
    },
    "tags": []
   },
   "source": [
    "## Paths"
   ]
  },
  {
   "cell_type": "code",
   "execution_count": 2,
   "id": "040e9b77",
   "metadata": {
    "execution": {
     "iopub.execute_input": "2023-08-26T09:15:43.175367Z",
     "iopub.status.busy": "2023-08-26T09:15:43.174917Z",
     "iopub.status.idle": "2023-08-26T09:17:34.234701Z",
     "shell.execute_reply": "2023-08-26T09:17:34.232683Z"
    },
    "papermill": {
     "duration": 111.076315,
     "end_time": "2023-08-26T09:17:34.238297",
     "exception": false,
     "start_time": "2023-08-26T09:15:43.161982",
     "status": "completed"
    },
    "tags": []
   },
   "outputs": [
    {
     "name": "stdout",
     "output_type": "stream",
     "text": [
      "\u001b[01;34m/kaggle\u001b[00m\r\n",
      "├── \u001b[01;34minput\u001b[00m\r\n",
      "│   └── \u001b[01;34mhistopathologic-cancer-detection\u001b[00m\r\n",
      "│       ├── \u001b[01;34mtest\u001b[00m\r\n",
      "│       └── \u001b[01;34mtrain\u001b[00m\r\n",
      "├── \u001b[01;34mlib\u001b[00m\r\n",
      "│   └── \u001b[01;34mkaggle\u001b[00m\r\n",
      "├── \u001b[01;34msrc\u001b[00m\r\n",
      "└── \u001b[01;34mworking\u001b[00m\r\n",
      "\r\n",
      "8 directories\r\n"
     ]
    }
   ],
   "source": [
    "! tree -d /kaggle"
   ]
  },
  {
   "cell_type": "code",
   "execution_count": 3,
   "id": "8f0fe546",
   "metadata": {
    "execution": {
     "iopub.execute_input": "2023-08-26T09:17:34.270552Z",
     "iopub.status.busy": "2023-08-26T09:17:34.269435Z",
     "iopub.status.idle": "2023-08-26T09:17:34.277058Z",
     "shell.execute_reply": "2023-08-26T09:17:34.275880Z"
    },
    "papermill": {
     "duration": 0.028866,
     "end_time": "2023-08-26T09:17:34.280075",
     "exception": false,
     "start_time": "2023-08-26T09:17:34.251209",
     "status": "completed"
    },
    "tags": []
   },
   "outputs": [],
   "source": [
    "csv_submission_ex_file = '/kaggle/input/histopathologic-cancer-detection/sample_submission.csv'\n",
    "train_labels_csv_file = '/kaggle/input/histopathologic-cancer-detection/train_labels.csv'\n",
    "train_dir = '/kaggle/input/histopathologic-cancer-detection/train/'\n",
    "test_dir = '/kaggle/input/histopathologic-cancer-detection/test/'"
   ]
  },
  {
   "cell_type": "markdown",
   "id": "74bbe7c8",
   "metadata": {
    "papermill": {
     "duration": 0.015167,
     "end_time": "2023-08-26T09:17:34.309625",
     "exception": false,
     "start_time": "2023-08-26T09:17:34.294458",
     "status": "completed"
    },
    "tags": []
   },
   "source": [
    "## Collecting the data"
   ]
  },
  {
   "cell_type": "markdown",
   "id": "13be284d",
   "metadata": {
    "papermill": {
     "duration": 0.011646,
     "end_time": "2023-08-26T09:17:34.333632",
     "exception": false,
     "start_time": "2023-08-26T09:17:34.321986",
     "status": "completed"
    },
    "tags": []
   },
   "source": [
    "### Sample submission "
   ]
  },
  {
   "cell_type": "code",
   "execution_count": 4,
   "id": "7d9ccdbd",
   "metadata": {
    "execution": {
     "iopub.execute_input": "2023-08-26T09:17:34.359572Z",
     "iopub.status.busy": "2023-08-26T09:17:34.359189Z",
     "iopub.status.idle": "2023-08-26T09:17:35.474119Z",
     "shell.execute_reply": "2023-08-26T09:17:35.472837Z"
    },
    "papermill": {
     "duration": 1.131326,
     "end_time": "2023-08-26T09:17:35.476909",
     "exception": false,
     "start_time": "2023-08-26T09:17:34.345583",
     "status": "completed"
    },
    "tags": []
   },
   "outputs": [
    {
     "name": "stdout",
     "output_type": "stream",
     "text": [
      "id,label\r\n",
      "0b2ea2a822ad23fdb1b5dd26653da899fbd2c0d5,0\r\n",
      "95596b92e5066c5c52466c90b69ff089b39f2737,0\r\n",
      "248e6738860e2ebcf6258cdc1f32f299e0c76914,0\r\n",
      "2c35657e312966e9294eac6841726ff3a748febf,0\r\n",
      "145782eb7caa1c516acbe2eda34d9a3f31c41fd6,0\r\n",
      "725dabe6ecccc68b958a2c7dd75bcbf362c7cb03,0\r\n",
      "aa0307865281d4484ddf8c637c348292968b93a7,0\r\n",
      "f4e5dc9c949920f1b3362982e15e99bf6f3ef83b,0\r\n",
      "95e08c9cedc28a9b4a86f4fc1e06c1972134be08,0\r\n"
     ]
    }
   ],
   "source": [
    "# Display top 5 rows\n",
    "! head $csv_submission_ex_file"
   ]
  },
  {
   "cell_type": "code",
   "execution_count": 5,
   "id": "45b04839",
   "metadata": {
    "execution": {
     "iopub.execute_input": "2023-08-26T09:17:35.503476Z",
     "iopub.status.busy": "2023-08-26T09:17:35.502985Z",
     "iopub.status.idle": "2023-08-26T09:17:35.698164Z",
     "shell.execute_reply": "2023-08-26T09:17:35.697030Z"
    },
    "papermill": {
     "duration": 0.211482,
     "end_time": "2023-08-26T09:17:35.700621",
     "exception": false,
     "start_time": "2023-08-26T09:17:35.489139",
     "status": "completed"
    },
    "tags": []
   },
   "outputs": [
    {
     "data": {
      "text/html": [
       "<div>\n",
       "<style scoped>\n",
       "    .dataframe tbody tr th:only-of-type {\n",
       "        vertical-align: middle;\n",
       "    }\n",
       "\n",
       "    .dataframe tbody tr th {\n",
       "        vertical-align: top;\n",
       "    }\n",
       "\n",
       "    .dataframe thead th {\n",
       "        text-align: right;\n",
       "    }\n",
       "</style>\n",
       "<table border=\"1\" class=\"dataframe\">\n",
       "  <thead>\n",
       "    <tr style=\"text-align: right;\">\n",
       "      <th></th>\n",
       "      <th>id</th>\n",
       "      <th>label</th>\n",
       "    </tr>\n",
       "  </thead>\n",
       "  <tbody>\n",
       "    <tr>\n",
       "      <th>0</th>\n",
       "      <td>0b2ea2a822ad23fdb1b5dd26653da899fbd2c0d5</td>\n",
       "      <td>0</td>\n",
       "    </tr>\n",
       "    <tr>\n",
       "      <th>1</th>\n",
       "      <td>95596b92e5066c5c52466c90b69ff089b39f2737</td>\n",
       "      <td>0</td>\n",
       "    </tr>\n",
       "    <tr>\n",
       "      <th>2</th>\n",
       "      <td>248e6738860e2ebcf6258cdc1f32f299e0c76914</td>\n",
       "      <td>0</td>\n",
       "    </tr>\n",
       "    <tr>\n",
       "      <th>3</th>\n",
       "      <td>2c35657e312966e9294eac6841726ff3a748febf</td>\n",
       "      <td>0</td>\n",
       "    </tr>\n",
       "    <tr>\n",
       "      <th>4</th>\n",
       "      <td>145782eb7caa1c516acbe2eda34d9a3f31c41fd6</td>\n",
       "      <td>0</td>\n",
       "    </tr>\n",
       "  </tbody>\n",
       "</table>\n",
       "</div>"
      ],
      "text/plain": [
       "                                         id  label\n",
       "0  0b2ea2a822ad23fdb1b5dd26653da899fbd2c0d5      0\n",
       "1  95596b92e5066c5c52466c90b69ff089b39f2737      0\n",
       "2  248e6738860e2ebcf6258cdc1f32f299e0c76914      0\n",
       "3  2c35657e312966e9294eac6841726ff3a748febf      0\n",
       "4  145782eb7caa1c516acbe2eda34d9a3f31c41fd6      0"
      ]
     },
     "execution_count": 5,
     "metadata": {},
     "output_type": "execute_result"
    }
   ],
   "source": [
    "submission_data_df = pd.read_csv(filepath_or_buffer=csv_submission_ex_file)\n",
    "submission_data_df.head()"
   ]
  },
  {
   "cell_type": "code",
   "execution_count": 6,
   "id": "2d297a5e",
   "metadata": {
    "execution": {
     "iopub.execute_input": "2023-08-26T09:17:35.727842Z",
     "iopub.status.busy": "2023-08-26T09:17:35.726809Z",
     "iopub.status.idle": "2023-08-26T09:17:35.735052Z",
     "shell.execute_reply": "2023-08-26T09:17:35.733488Z"
    },
    "papermill": {
     "duration": 0.024717,
     "end_time": "2023-08-26T09:17:35.737835",
     "exception": false,
     "start_time": "2023-08-26T09:17:35.713118",
     "status": "completed"
    },
    "tags": []
   },
   "outputs": [
    {
     "data": {
      "text/plain": [
       "(57458, 2)"
      ]
     },
     "execution_count": 6,
     "metadata": {},
     "output_type": "execute_result"
    }
   ],
   "source": [
    "submission_data_df.shape"
   ]
  },
  {
   "cell_type": "markdown",
   "id": "a5362e54",
   "metadata": {
    "papermill": {
     "duration": 0.012087,
     "end_time": "2023-08-26T09:17:35.762551",
     "exception": false,
     "start_time": "2023-08-26T09:17:35.750464",
     "status": "completed"
    },
    "tags": []
   },
   "source": [
    "### Train data"
   ]
  },
  {
   "cell_type": "code",
   "execution_count": 7,
   "id": "e58db58f",
   "metadata": {
    "execution": {
     "iopub.execute_input": "2023-08-26T09:17:35.789330Z",
     "iopub.status.busy": "2023-08-26T09:17:35.788901Z",
     "iopub.status.idle": "2023-08-26T09:17:36.916277Z",
     "shell.execute_reply": "2023-08-26T09:17:36.915037Z"
    },
    "papermill": {
     "duration": 1.144497,
     "end_time": "2023-08-26T09:17:36.919513",
     "exception": false,
     "start_time": "2023-08-26T09:17:35.775016",
     "status": "completed"
    },
    "tags": []
   },
   "outputs": [
    {
     "name": "stdout",
     "output_type": "stream",
     "text": [
      "id,label\r\n",
      "f38a6374c348f90b587e046aac6079959adf3835,0\r\n",
      "c18f2d887b7ae4f6742ee445113fa1aef383ed77,1\r\n",
      "755db6279dae599ebb4d39a9123cce439965282d,0\r\n",
      "bc3f0c64fb968ff4a8bd33af6971ecae77c75e08,0\r\n",
      "068aba587a4950175d04c680d38943fd488d6a9d,0\r\n",
      "acfe80838488fae3c89bd21ade75be5c34e66be7,0\r\n",
      "a24ce148f6ffa7ef8eefb4efb12ebffe8dd700da,1\r\n",
      "7f6ccae485af121e0b6ee733022e226ee6b0c65f,1\r\n",
      "559e55a64c9ba828f700e948f6886f4cea919261,0\r\n"
     ]
    }
   ],
   "source": [
    "# Display top 5 rows\n",
    "! head $train_labels_csv_file"
   ]
  },
  {
   "cell_type": "code",
   "execution_count": 8,
   "id": "46f5222a",
   "metadata": {
    "execution": {
     "iopub.execute_input": "2023-08-26T09:17:36.958079Z",
     "iopub.status.busy": "2023-08-26T09:17:36.957630Z",
     "iopub.status.idle": "2023-08-26T09:17:37.605308Z",
     "shell.execute_reply": "2023-08-26T09:17:37.604444Z"
    },
    "papermill": {
     "duration": 0.67027,
     "end_time": "2023-08-26T09:17:37.608063",
     "exception": false,
     "start_time": "2023-08-26T09:17:36.937793",
     "status": "completed"
    },
    "tags": []
   },
   "outputs": [
    {
     "data": {
      "text/html": [
       "<div>\n",
       "<style scoped>\n",
       "    .dataframe tbody tr th:only-of-type {\n",
       "        vertical-align: middle;\n",
       "    }\n",
       "\n",
       "    .dataframe tbody tr th {\n",
       "        vertical-align: top;\n",
       "    }\n",
       "\n",
       "    .dataframe thead th {\n",
       "        text-align: right;\n",
       "    }\n",
       "</style>\n",
       "<table border=\"1\" class=\"dataframe\">\n",
       "  <thead>\n",
       "    <tr style=\"text-align: right;\">\n",
       "      <th></th>\n",
       "      <th>id</th>\n",
       "      <th>label</th>\n",
       "    </tr>\n",
       "  </thead>\n",
       "  <tbody>\n",
       "    <tr>\n",
       "      <th>0</th>\n",
       "      <td>f38a6374c348f90b587e046aac6079959adf3835</td>\n",
       "      <td>0</td>\n",
       "    </tr>\n",
       "    <tr>\n",
       "      <th>1</th>\n",
       "      <td>c18f2d887b7ae4f6742ee445113fa1aef383ed77</td>\n",
       "      <td>1</td>\n",
       "    </tr>\n",
       "    <tr>\n",
       "      <th>2</th>\n",
       "      <td>755db6279dae599ebb4d39a9123cce439965282d</td>\n",
       "      <td>0</td>\n",
       "    </tr>\n",
       "    <tr>\n",
       "      <th>3</th>\n",
       "      <td>bc3f0c64fb968ff4a8bd33af6971ecae77c75e08</td>\n",
       "      <td>0</td>\n",
       "    </tr>\n",
       "    <tr>\n",
       "      <th>4</th>\n",
       "      <td>068aba587a4950175d04c680d38943fd488d6a9d</td>\n",
       "      <td>0</td>\n",
       "    </tr>\n",
       "  </tbody>\n",
       "</table>\n",
       "</div>"
      ],
      "text/plain": [
       "                                         id  label\n",
       "0  f38a6374c348f90b587e046aac6079959adf3835      0\n",
       "1  c18f2d887b7ae4f6742ee445113fa1aef383ed77      1\n",
       "2  755db6279dae599ebb4d39a9123cce439965282d      0\n",
       "3  bc3f0c64fb968ff4a8bd33af6971ecae77c75e08      0\n",
       "4  068aba587a4950175d04c680d38943fd488d6a9d      0"
      ]
     },
     "execution_count": 8,
     "metadata": {},
     "output_type": "execute_result"
    }
   ],
   "source": [
    "data_df = pd.read_csv(filepath_or_buffer=train_labels_csv_file)\n",
    "data_df.head()"
   ]
  },
  {
   "cell_type": "code",
   "execution_count": 9,
   "id": "96d2d407",
   "metadata": {
    "execution": {
     "iopub.execute_input": "2023-08-26T09:17:37.645980Z",
     "iopub.status.busy": "2023-08-26T09:17:37.644791Z",
     "iopub.status.idle": "2023-08-26T09:17:37.651972Z",
     "shell.execute_reply": "2023-08-26T09:17:37.651043Z"
    },
    "papermill": {
     "duration": 0.027908,
     "end_time": "2023-08-26T09:17:37.654255",
     "exception": false,
     "start_time": "2023-08-26T09:17:37.626347",
     "status": "completed"
    },
    "tags": []
   },
   "outputs": [
    {
     "data": {
      "text/plain": [
       "(220025, 2)"
      ]
     },
     "execution_count": 9,
     "metadata": {},
     "output_type": "execute_result"
    }
   ],
   "source": [
    "# Shape of the data\n",
    "data_df.shape"
   ]
  },
  {
   "cell_type": "code",
   "execution_count": 10,
   "id": "1b9a5a21",
   "metadata": {
    "execution": {
     "iopub.execute_input": "2023-08-26T09:17:37.682153Z",
     "iopub.status.busy": "2023-08-26T09:17:37.681698Z",
     "iopub.status.idle": "2023-08-26T09:17:37.705521Z",
     "shell.execute_reply": "2023-08-26T09:17:37.704250Z"
    },
    "papermill": {
     "duration": 0.040711,
     "end_time": "2023-08-26T09:17:37.707987",
     "exception": false,
     "start_time": "2023-08-26T09:17:37.667276",
     "status": "completed"
    },
    "tags": []
   },
   "outputs": [
    {
     "name": "stdout",
     "output_type": "stream",
     "text": [
      "0    130908\n",
      "1     89117\n",
      "Name: label, dtype: int64\n"
     ]
    },
    {
     "data": {
      "text/plain": [
       "0    59.496875\n",
       "1    40.503125\n",
       "Name: label, dtype: float64"
      ]
     },
     "execution_count": 10,
     "metadata": {},
     "output_type": "execute_result"
    }
   ],
   "source": [
    "# Target feature value_counts\n",
    "print(data_df[\"label\"].value_counts())\n",
    "data_df[\"label\"].value_counts(normalize=True) * 100"
   ]
  },
  {
   "cell_type": "markdown",
   "id": "cf386ece",
   "metadata": {
    "papermill": {
     "duration": 0.013178,
     "end_time": "2023-08-26T09:17:37.735159",
     "exception": false,
     "start_time": "2023-08-26T09:17:37.721981",
     "status": "completed"
    },
    "tags": []
   },
   "source": [
    "1. Since, the target feature i.e `label` has only two unique values i.e `[0,1]`, hence, it's a **`Binary Classification`** problem. And also **`Supervised Learning`** as the datset is **labelled.**"
   ]
  },
  {
   "cell_type": "markdown",
   "id": "bf16f678",
   "metadata": {
    "papermill": {
     "duration": 0.01271,
     "end_time": "2023-08-26T09:17:37.762757",
     "exception": false,
     "start_time": "2023-08-26T09:17:37.750047",
     "status": "completed"
    },
    "tags": []
   },
   "source": [
    "## Downsampling the dataset\n",
    "A positive label indicates that the center 32x32 px region of a patch contains at least one px of tumor tissue. There are **130,908 normal cases (0)** and **89,117 abnormal (or cancerous) tissue images (1)**. This is a huge dataset that will require a lot of time and compute resources to train on a full dataset, thus we will downsample the 220,000 images in the train folder to 10,000 images and then split them into training and testing datasets:"
   ]
  },
  {
   "cell_type": "code",
   "execution_count": 11,
   "id": "83fac8fe",
   "metadata": {
    "execution": {
     "iopub.execute_input": "2023-08-26T09:17:37.794006Z",
     "iopub.status.busy": "2023-08-26T09:17:37.792735Z",
     "iopub.status.idle": "2023-08-26T09:17:37.798318Z",
     "shell.execute_reply": "2023-08-26T09:17:37.797474Z"
    },
    "papermill": {
     "duration": 0.024447,
     "end_time": "2023-08-26T09:17:37.800732",
     "exception": false,
     "start_time": "2023-08-26T09:17:37.776285",
     "status": "completed"
    },
    "tags": []
   },
   "outputs": [],
   "source": [
    "# np.random.seed(42)\n",
    "# train_imgs_orig = os.listdir(\"/kaggle/input/histopathologic-cancer-detection/train\")\n",
    "# selected_image_list = []\n",
    "\n",
    "# for img in np.random.choice(train_imgs_orig, 10000):\n",
    "#     selected_image_list.append(img)\n",
    "    \n",
    "# len(selected_image_list)"
   ]
  },
  {
   "cell_type": "markdown",
   "id": "41f83c40",
   "metadata": {
    "papermill": {
     "duration": 0.012711,
     "end_time": "2023-08-26T09:17:37.826787",
     "exception": false,
     "start_time": "2023-08-26T09:17:37.814076",
     "status": "completed"
    },
    "tags": []
   },
   "source": [
    "## Train Test split"
   ]
  },
  {
   "cell_type": "code",
   "execution_count": 12,
   "id": "bb4b1c9f",
   "metadata": {
    "execution": {
     "iopub.execute_input": "2023-08-26T09:17:37.855237Z",
     "iopub.status.busy": "2023-08-26T09:17:37.854501Z",
     "iopub.status.idle": "2023-08-26T09:17:37.859435Z",
     "shell.execute_reply": "2023-08-26T09:17:37.858519Z"
    },
    "papermill": {
     "duration": 0.0217,
     "end_time": "2023-08-26T09:17:37.861710",
     "exception": false,
     "start_time": "2023-08-26T09:17:37.840010",
     "status": "completed"
    },
    "tags": []
   },
   "outputs": [],
   "source": [
    "# np.random.seed(42)\n",
    "# np.random.shuffle(selected_image_list)\n",
    "\n",
    "# train_idx = selected_image_list[:8000]\n",
    "# test_idx = selected_image_list[8000:]\n",
    "\n",
    "# print(f\"Number of images in the downsampled training dataset: {len(train_idx)}\")\n",
    "# print(f\"Number of images in the downsampled testing dataset: {len(test_idx)}\")"
   ]
  },
  {
   "cell_type": "code",
   "execution_count": 13,
   "id": "95b250c5",
   "metadata": {
    "execution": {
     "iopub.execute_input": "2023-08-26T09:17:37.890205Z",
     "iopub.status.busy": "2023-08-26T09:17:37.889527Z",
     "iopub.status.idle": "2023-08-26T09:17:37.894790Z",
     "shell.execute_reply": "2023-08-26T09:17:37.894019Z"
    },
    "papermill": {
     "duration": 0.022159,
     "end_time": "2023-08-26T09:17:37.897152",
     "exception": false,
     "start_time": "2023-08-26T09:17:37.874993",
     "status": "completed"
    },
    "tags": []
   },
   "outputs": [],
   "source": [
    "# ### downsampled_train_dataset\n",
    "# os.mkdir('/kaggle/working/downsampled_train_dataset')\n",
    "\n",
    "# for file_name in train_idx:\n",
    "#     source = os.path.join('/kaggle/input/histopathologic-cancer-detection/train',file_name)\n",
    "#     destination = os.path.join('/kaggle/working/downsampled_train_dataset/', file_name)\n",
    "#     shutil.copyfile(source, destination)\n",
    "\n",
    "# ### downsampled_test_dataset\n",
    "# os.mkdir('/kaggle/working/downsampled_test_dataset')\n",
    "\n",
    "# for file_name in test_idx:\n",
    "#     # we used the train datset instead. of test because we are using the train datset itself for both training & testing\n",
    "#     source = os.path.join('/kaggle/input/histopathologic-cancer-detection/train',file_name)\n",
    "#     destination = os.path.join('/kaggle/working/downsampled_test_dataset/', file_name)\n",
    "#     shutil.copyfile(source, destination)\n",
    "    \n",
    "# print(\"Copying of data from Source to Destination is completed!!!\")"
   ]
  },
  {
   "cell_type": "markdown",
   "id": "286c750c",
   "metadata": {
    "papermill": {
     "duration": 0.012713,
     "end_time": "2023-08-26T09:17:37.923097",
     "exception": false,
     "start_time": "2023-08-26T09:17:37.910384",
     "status": "completed"
    },
    "tags": []
   },
   "source": [
    "In the preceding code snippet, we are first creating two folders called **`downsampled_train_dataset * downsampled_test_dataset`** on the following path:\n",
    "```python\n",
    "os.mkdir('/kaggle/working/downsampled_train_dataset')\n",
    "os.mkdir('/kaggle/working/downsampled_test_dataset')\n",
    "```\n",
    "Then, we are looping over `train_idx` to get image names for the training data and copying all the files from input storage in the machine allotted to us at the time we created a notebook to working storage on our Kaggle using the **shutils** Python module."
   ]
  },
  {
   "cell_type": "markdown",
   "id": "6324a53f",
   "metadata": {
    "papermill": {
     "duration": 0.01258,
     "end_time": "2023-08-26T09:17:37.948861",
     "exception": false,
     "start_time": "2023-08-26T09:17:37.936281",
     "status": "completed"
    },
    "tags": []
   },
   "source": [
    "## Label extraction"
   ]
  },
  {
   "cell_type": "markdown",
   "id": "14fb900e",
   "metadata": {
    "papermill": {
     "duration": 0.013204,
     "end_time": "2023-08-26T09:17:37.975086",
     "exception": false,
     "start_time": "2023-08-26T09:17:37.961882",
     "status": "completed"
    },
    "tags": []
   },
   "source": [
    "The labels for the images that were selected in the downsampled data will be extracted in a list that will be used for training and evaluating the image classification model, as shown here:"
   ]
  },
  {
   "cell_type": "code",
   "execution_count": 14,
   "id": "0997c0d1",
   "metadata": {
    "execution": {
     "iopub.execute_input": "2023-08-26T09:17:38.002822Z",
     "iopub.status.busy": "2023-08-26T09:17:38.002376Z",
     "iopub.status.idle": "2023-08-26T09:17:38.295290Z",
     "shell.execute_reply": "2023-08-26T09:17:38.294232Z"
    },
    "papermill": {
     "duration": 0.309985,
     "end_time": "2023-08-26T09:17:38.298117",
     "exception": false,
     "start_time": "2023-08-26T09:17:37.988132",
     "status": "completed"
    },
    "tags": []
   },
   "outputs": [],
   "source": [
    "# Create a ictionary {\"img_name_short\": labels} \n",
    "dict_labels_train = data_df.set_index('id')['label'].to_dict()"
   ]
  },
  {
   "cell_type": "code",
   "execution_count": 15,
   "id": "372c6edc",
   "metadata": {
    "execution": {
     "iopub.execute_input": "2023-08-26T09:17:38.326907Z",
     "iopub.status.busy": "2023-08-26T09:17:38.326303Z",
     "iopub.status.idle": "2023-08-26T09:17:38.516340Z",
     "shell.execute_reply": "2023-08-26T09:17:38.515028Z"
    },
    "papermill": {
     "duration": 0.207665,
     "end_time": "2023-08-26T09:17:38.518951",
     "exception": false,
     "start_time": "2023-08-26T09:17:38.311286",
     "status": "completed"
    },
    "tags": []
   },
   "outputs": [
    {
     "name": "stdout",
     "output_type": "stream",
     "text": [
      "['a7ea26360815d8492433b14cd8318607bcf99d9e', '59d21133c845dff1ebc7a0c7cf40c145ea9e9664', '5fde41ce8c6048a5c2f38eca12d6528fa312cdbb', 'bd953a3b1db1f7041ee95ff482594c4f46c73ed0', '523fc2efd7aba53e597ab0f69cc2cbded7a6ce62']\n",
      "['NA', 'NA', 'NA', 'NA', 'NA']\n",
      "[('a7ea26360815d8492433b14cd8318607bcf99d9e', 'NA'), ('59d21133c845dff1ebc7a0c7cf40c145ea9e9664', 'NA'), ('5fde41ce8c6048a5c2f38eca12d6528fa312cdbb', 'NA'), ('bd953a3b1db1f7041ee95ff482594c4f46c73ed0', 'NA'), ('523fc2efd7aba53e597ab0f69cc2cbded7a6ce62', 'NA')]\n"
     ]
    }
   ],
   "source": [
    "# Also create dictionary for test_data\n",
    "test_id_list = [os.path.splitext(img)[0] for img in os.listdir(test_dir)]\n",
    "test_label_list = [\"NA\" for img_id in test_id_list]\n",
    "print(test_id_list[:5])\n",
    "print(test_label_list[:5])\n",
    "\n",
    "# use the zip function to create a list of tuples\n",
    "test_id_label_list = list(zip(test_id_list, test_label_list))\n",
    "print(test_id_label_list[:5])\n",
    "# use the dict function to convert the list of tuples into a dictionary\n",
    "dict_labels_test = dict(test_id_label_list)"
   ]
  },
  {
   "cell_type": "markdown",
   "id": "9fb68578",
   "metadata": {
    "papermill": {
     "duration": 0.01292,
     "end_time": "2023-08-26T09:17:38.545153",
     "exception": false,
     "start_time": "2023-08-26T09:17:38.532233",
     "status": "completed"
    },
    "tags": []
   },
   "source": [
    "## Loading the dataset\n",
    "**PyTorch Lightning** `expects data to be in folders with the classes.` So, we cannot use the DataLoader module directly when all train/test images are in one folder without subfolders. Therefore, we will write our custom class for loading the data, as follows:"
   ]
  },
  {
   "cell_type": "code",
   "execution_count": 16,
   "id": "e53c2f8f",
   "metadata": {
    "execution": {
     "iopub.execute_input": "2023-08-26T09:17:38.573632Z",
     "iopub.status.busy": "2023-08-26T09:17:38.572941Z",
     "iopub.status.idle": "2023-08-26T09:17:38.583968Z",
     "shell.execute_reply": "2023-08-26T09:17:38.583107Z"
    },
    "papermill": {
     "duration": 0.028048,
     "end_time": "2023-08-26T09:17:38.586388",
     "exception": false,
     "start_time": "2023-08-26T09:17:38.558340",
     "status": "completed"
    },
    "tags": []
   },
   "outputs": [],
   "source": [
    "class LoadCancerDataset(Dataset):\n",
    "    \n",
    "    def __init__(self, data_folder, transform = T.Compose([T.CenterCrop(32),T.ToTensor()]), dict_labels={}):\n",
    "        self.data_folder = data_folder\n",
    "        self.list_image_files = [s for s in os.listdir(data_folder)]\n",
    "        self.transform = transform\n",
    "        self.dict_labels = dict_labels\n",
    "        self.labels = [dict_labels[i.split('.')[0]] for i in self.list_image_files]\n",
    "        \n",
    "    def __len__(self):\n",
    "        return len(self.list_image_files)\n",
    "    \n",
    "    def __getitem__(self, idx):\n",
    "        img_name = os.path.join(self.data_folder, self.list_image_files[idx])\n",
    "        image = Image.open(img_name)\n",
    "        image = self.transform(image)[0]\n",
    "        img_name_short = self.list_image_files[idx].split('.')\n",
    "        label = self.dict_labels[img_name_short]\n",
    "        return image, label\n",
    "    \n",
    "# class LoadCancerDataset(Dataset):\n",
    "#     def __init__(self, csv_file, img_dir, transform=None):\n",
    "#         self.csv_file = pd.read_csv(csv_file)\n",
    "#         self.img_dir = img_dir\n",
    "\n",
    "#         self.transform = transform\n",
    "\n",
    "#     def __len__(self):\n",
    "#         return len(self.csv_file)\n",
    "\n",
    "#     def __getitem__(self, idx):\n",
    "#         img_name = os.path.join(self.img_dir, self.csv_file.iloc[idx, 0])\n",
    "#         img_name = img_name + '.tif'\n",
    "\n",
    "#         sample = Image.open(img_name)\n",
    "\n",
    "#         if self.transform is not None:\n",
    "#             sample = self.transform(sample)\n",
    "\n",
    "#         return {'sample': sample}"
   ]
  },
  {
   "cell_type": "markdown",
   "id": "7f3229ba",
   "metadata": {
    "papermill": {
     "duration": 0.012731,
     "end_time": "2023-08-26T09:17:38.612300",
     "exception": false,
     "start_time": "2023-08-26T09:17:38.599569",
     "status": "completed"
    },
    "tags": []
   },
   "source": [
    "In the preceding code block, we have defined a custom data loader.\n",
    "\n",
    "The custom class defined earlier inherits from the `torch.utils.data.Dataset` module. The **LoadCancerDataset** custom class is initialized in the **__init__** method and accepts three arguments: **the `path to the data folder`, the `transformer` with a default value of cropping the image to size 32 and transforming it to a tensor, and a `dictionary` with the labels and IDs of the dataset.**\n",
    "\n",
    "The **LoadCancerDataset** class reads all the images in the folder and **extracts** the image name from the filename, which is also the `ID` for the images. This image name is then matched with the label in the dictionary with the labels and IDs.\n",
    "\n",
    "The **LoadCancerDataset** class returns the images and their labels, which can then be used in the DataLoader module of the `torch.utils.data` library as it can now read the images with their corresponding label."
   ]
  },
  {
   "cell_type": "markdown",
   "id": "f3e4acac",
   "metadata": {
    "papermill": {
     "duration": 0.012712,
     "end_time": "2023-08-26T09:17:38.638159",
     "exception": false,
     "start_time": "2023-08-26T09:17:38.625447",
     "status": "completed"
    },
    "tags": []
   },
   "source": [
    "## Augmenting the dataset\n",
    "Now that we have loaded the data, we will start the process of data preprocessing by augmenting the images, as follows:"
   ]
  },
  {
   "cell_type": "code",
   "execution_count": 17,
   "id": "094226a3",
   "metadata": {
    "execution": {
     "iopub.execute_input": "2023-08-26T09:17:38.666611Z",
     "iopub.status.busy": "2023-08-26T09:17:38.665895Z",
     "iopub.status.idle": "2023-08-26T09:17:38.671847Z",
     "shell.execute_reply": "2023-08-26T09:17:38.671045Z"
    },
    "papermill": {
     "duration": 0.022894,
     "end_time": "2023-08-26T09:17:38.674162",
     "exception": false,
     "start_time": "2023-08-26T09:17:38.651268",
     "status": "completed"
    },
    "tags": []
   },
   "outputs": [],
   "source": [
    "data_T_train = T.Compose([ T.CenterCrop(32), T.RandomHorizontalFlip(), T.RandomVerticalFlip(), T.ToTensor(), ])\n",
    "\n",
    "data_T_test = T.Compose([ T.CenterCrop(32), T.ToTensor(), ])"
   ]
  },
  {
   "cell_type": "markdown",
   "id": "f75b5d1a",
   "metadata": {
    "papermill": {
     "duration": 0.013316,
     "end_time": "2023-08-26T09:17:38.700672",
     "exception": false,
     "start_time": "2023-08-26T09:17:38.687356",
     "status": "completed"
    },
    "tags": []
   },
   "source": [
    "In the preceding code block,\n",
    "\n",
    "We have used transformations to crop the image to 32x32 by using **Torchvision's** built-in libraries. We then also **augmented the data** by flipping it horizontally and vertically, **thereby creating two additional copies from the original image.**\n",
    "\n",
    "Now, we will call our **LoadCancerDataset** custom class with the path to the data folder, transformer, and the image label dictionary to convert it to the format accepted by the `torch.utils.data.DataLoader` module.\n",
    "\n",
    "> The **test_dir** does not have any labels, because it is the data that you need to make predictions on and submit to the Kaggle competition. The `test_labels.csv` file is not provided to you, because it is used by Kaggle to evaluate your model and rank your submission. Therefore, you cannot use the same approach as the train_dir to create a dictionary of labels for the test_dir. However, **you can still create a LoadCancerDataset object for the test_dir, but you need to pass an empty dictionary as the dict_labels argument**. This way, the `getitem` method of the class will return a dummy label (such as 0) for each image file in the test_dir, but you can ignore this label when making predictions. You only need the image data from the test_dir to feed into your model and generate probabilities of cancer detection."
   ]
  },
  {
   "cell_type": "code",
   "execution_count": 18,
   "id": "bd547d09",
   "metadata": {
    "execution": {
     "iopub.execute_input": "2023-08-26T09:17:38.729003Z",
     "iopub.status.busy": "2023-08-26T09:17:38.728580Z",
     "iopub.status.idle": "2023-08-26T09:17:39.205461Z",
     "shell.execute_reply": "2023-08-26T09:17:39.204360Z"
    },
    "papermill": {
     "duration": 0.49438,
     "end_time": "2023-08-26T09:17:39.208313",
     "exception": false,
     "start_time": "2023-08-26T09:17:38.713933",
     "status": "completed"
    },
    "tags": []
   },
   "outputs": [],
   "source": [
    "train_set = LoadCancerDataset(data_folder=train_dir, transform = data_T_train, dict_labels=dict_labels_train)\n",
    "# in test_set dict_labels={} empty as it's a kaggle's competition rank evaluation data, where the label is kept hidden for evaluation by the authority\n",
    "test_set = LoadCancerDataset(data_folder=test_dir, transform = data_T_test, dict_labels=dict_labels_test) "
   ]
  },
  {
   "cell_type": "markdown",
   "id": "16c79e55",
   "metadata": {
    "papermill": {
     "duration": 0.014043,
     "end_time": "2023-08-26T09:17:39.236644",
     "exception": false,
     "start_time": "2023-08-26T09:17:39.222601",
     "status": "completed"
    },
    "tags": []
   },
   "source": [
    "This will be repeated for the test data as well, and then, in the final step, we will create train_dataloader and test_dataloader data loaders using the output from our LoadCancerDataset custom class by leveraging the DataLoader module from the torch.utils.data library. The code to do so is illustrated in the following snippet:\n"
   ]
  },
  {
   "cell_type": "code",
   "execution_count": 19,
   "id": "ecfc4719",
   "metadata": {
    "execution": {
     "iopub.execute_input": "2023-08-26T09:17:39.265410Z",
     "iopub.status.busy": "2023-08-26T09:17:39.265015Z",
     "iopub.status.idle": "2023-08-26T09:17:39.271213Z",
     "shell.execute_reply": "2023-08-26T09:17:39.270041Z"
    },
    "papermill": {
     "duration": 0.023191,
     "end_time": "2023-08-26T09:17:39.273548",
     "exception": false,
     "start_time": "2023-08-26T09:17:39.250357",
     "status": "completed"
    },
    "tags": []
   },
   "outputs": [],
   "source": [
    "train_dataloader = DataLoader(train_set, batch_size=256, num_workers=2, pin_memory=True, shuffle=True)\n",
    "test_dataloader = DataLoader(test_set, batch_size=256, num_workers=2, pin_memory=True, shuffle=False)"
   ]
  },
  {
   "cell_type": "code",
   "execution_count": 20,
   "id": "88414586",
   "metadata": {
    "execution": {
     "iopub.execute_input": "2023-08-26T09:17:39.302378Z",
     "iopub.status.busy": "2023-08-26T09:17:39.301585Z",
     "iopub.status.idle": "2023-08-26T09:17:39.308589Z",
     "shell.execute_reply": "2023-08-26T09:17:39.307388Z"
    },
    "papermill": {
     "duration": 0.024141,
     "end_time": "2023-08-26T09:17:39.311062",
     "exception": false,
     "start_time": "2023-08-26T09:17:39.286921",
     "status": "completed"
    },
    "tags": []
   },
   "outputs": [
    {
     "name": "stdout",
     "output_type": "stream",
     "text": [
      "Length of the DataLoader :860\n",
      "Actual Length of the dataset :220160\n"
     ]
    }
   ],
   "source": [
    "print(f\"Length of the DataLoader :{train_dataloader.__len__()}\")\n",
    "print(f\"Actual Length of the dataset :{train_dataloader.__len__() * 256}\")"
   ]
  },
  {
   "cell_type": "code",
   "execution_count": 21,
   "id": "3acc3734",
   "metadata": {
    "execution": {
     "iopub.execute_input": "2023-08-26T09:17:39.340278Z",
     "iopub.status.busy": "2023-08-26T09:17:39.339133Z",
     "iopub.status.idle": "2023-08-26T09:17:41.980658Z",
     "shell.execute_reply": "2023-08-26T09:17:41.978725Z"
    },
    "papermill": {
     "duration": 2.658645,
     "end_time": "2023-08-26T09:17:41.983110",
     "exception": true,
     "start_time": "2023-08-26T09:17:39.324465",
     "status": "failed"
    },
    "tags": []
   },
   "outputs": [
    {
     "data": {
      "text/html": [
       "<pre style=\"white-space:pre;overflow-x:auto;line-height:normal;font-family:Menlo,'DejaVu Sans Mono',consolas,'Courier New',monospace\"><span style=\"color: #800000; text-decoration-color: #800000\">╭─────────────────────────────── </span><span style=\"color: #800000; text-decoration-color: #800000; font-weight: bold\">Traceback </span><span style=\"color: #bf7f7f; text-decoration-color: #bf7f7f; font-weight: bold\">(most recent call last)</span><span style=\"color: #800000; text-decoration-color: #800000\"> ────────────────────────────────╮</span>\n",
       "<span style=\"color: #800000; text-decoration-color: #800000\">│</span> in <span style=\"color: #00ff00; text-decoration-color: #00ff00\">&lt;module&gt;</span>:<span style=\"color: #0000ff; text-decoration-color: #0000ff\">1</span>                                                                                    <span style=\"color: #800000; text-decoration-color: #800000\">│</span>\n",
       "<span style=\"color: #800000; text-decoration-color: #800000\">│</span>                                                                                                  <span style=\"color: #800000; text-decoration-color: #800000\">│</span>\n",
       "<span style=\"color: #800000; text-decoration-color: #800000\">│</span> <span style=\"color: #800000; text-decoration-color: #800000\">❱ </span>1 image, label = <span style=\"color: #00ffff; text-decoration-color: #00ffff\">next</span>(<span style=\"color: #00ffff; text-decoration-color: #00ffff\">iter</span>(train_dataloader))                                                  <span style=\"color: #800000; text-decoration-color: #800000\">│</span>\n",
       "<span style=\"color: #800000; text-decoration-color: #800000\">│</span>   <span style=\"color: #7f7f7f; text-decoration-color: #7f7f7f\">2 </span><span style=\"color: #00ffff; text-decoration-color: #00ffff\">print</span>(image, label)                                                                          <span style=\"color: #800000; text-decoration-color: #800000\">│</span>\n",
       "<span style=\"color: #800000; text-decoration-color: #800000\">│</span>   <span style=\"color: #7f7f7f; text-decoration-color: #7f7f7f\">3 </span>                                                                                             <span style=\"color: #800000; text-decoration-color: #800000\">│</span>\n",
       "<span style=\"color: #800000; text-decoration-color: #800000\">│</span>                                                                                                  <span style=\"color: #800000; text-decoration-color: #800000\">│</span>\n",
       "<span style=\"color: #800000; text-decoration-color: #800000\">│</span> <span style=\"color: #bfbf7f; text-decoration-color: #bfbf7f\">/opt/conda/lib/python3.10/site-packages/torch/utils/data/</span><span style=\"color: #808000; text-decoration-color: #808000; font-weight: bold\">dataloader.py</span>:<span style=\"color: #0000ff; text-decoration-color: #0000ff\">634</span> in <span style=\"color: #00ff00; text-decoration-color: #00ff00\">__next__</span>           <span style=\"color: #800000; text-decoration-color: #800000\">│</span>\n",
       "<span style=\"color: #800000; text-decoration-color: #800000\">│</span>                                                                                                  <span style=\"color: #800000; text-decoration-color: #800000\">│</span>\n",
       "<span style=\"color: #800000; text-decoration-color: #800000\">│</span>   <span style=\"color: #7f7f7f; text-decoration-color: #7f7f7f\"> 631 </span><span style=\"color: #7f7f7f; text-decoration-color: #7f7f7f\">│   │   │   </span><span style=\"color: #0000ff; text-decoration-color: #0000ff\">if</span> <span style=\"color: #00ffff; text-decoration-color: #00ffff\">self</span>._sampler_iter <span style=\"color: #ff00ff; text-decoration-color: #ff00ff\">is</span> <span style=\"color: #0000ff; text-decoration-color: #0000ff\">None</span>:                                                <span style=\"color: #800000; text-decoration-color: #800000\">│</span>\n",
       "<span style=\"color: #800000; text-decoration-color: #800000\">│</span>   <span style=\"color: #7f7f7f; text-decoration-color: #7f7f7f\"> 632 </span><span style=\"color: #7f7f7f; text-decoration-color: #7f7f7f\">│   │   │   │   </span><span style=\"color: #7f7f7f; text-decoration-color: #7f7f7f\"># TODO(https://github.com/pytorch/pytorch/issues/76750)</span>                   <span style=\"color: #800000; text-decoration-color: #800000\">│</span>\n",
       "<span style=\"color: #800000; text-decoration-color: #800000\">│</span>   <span style=\"color: #7f7f7f; text-decoration-color: #7f7f7f\"> 633 </span><span style=\"color: #7f7f7f; text-decoration-color: #7f7f7f\">│   │   │   │   </span><span style=\"color: #00ffff; text-decoration-color: #00ffff\">self</span>._reset()  <span style=\"color: #7f7f7f; text-decoration-color: #7f7f7f\"># type: ignore[call-arg]</span>                                   <span style=\"color: #800000; text-decoration-color: #800000\">│</span>\n",
       "<span style=\"color: #800000; text-decoration-color: #800000\">│</span> <span style=\"color: #800000; text-decoration-color: #800000\">❱ </span> 634 <span style=\"color: #7f7f7f; text-decoration-color: #7f7f7f\">│   │   │   </span>data = <span style=\"color: #00ffff; text-decoration-color: #00ffff\">self</span>._next_data()                                                      <span style=\"color: #800000; text-decoration-color: #800000\">│</span>\n",
       "<span style=\"color: #800000; text-decoration-color: #800000\">│</span>   <span style=\"color: #7f7f7f; text-decoration-color: #7f7f7f\"> 635 </span><span style=\"color: #7f7f7f; text-decoration-color: #7f7f7f\">│   │   │   </span><span style=\"color: #00ffff; text-decoration-color: #00ffff\">self</span>._num_yielded += <span style=\"color: #0000ff; text-decoration-color: #0000ff\">1</span>                                                        <span style=\"color: #800000; text-decoration-color: #800000\">│</span>\n",
       "<span style=\"color: #800000; text-decoration-color: #800000\">│</span>   <span style=\"color: #7f7f7f; text-decoration-color: #7f7f7f\"> 636 </span><span style=\"color: #7f7f7f; text-decoration-color: #7f7f7f\">│   │   │   </span><span style=\"color: #0000ff; text-decoration-color: #0000ff\">if</span> <span style=\"color: #00ffff; text-decoration-color: #00ffff\">self</span>._dataset_kind == _DatasetKind.Iterable <span style=\"color: #ff00ff; text-decoration-color: #ff00ff\">and</span> \\                          <span style=\"color: #800000; text-decoration-color: #800000\">│</span>\n",
       "<span style=\"color: #800000; text-decoration-color: #800000\">│</span>   <span style=\"color: #7f7f7f; text-decoration-color: #7f7f7f\"> 637 </span><span style=\"color: #7f7f7f; text-decoration-color: #7f7f7f\">│   │   │   │   │   </span><span style=\"color: #00ffff; text-decoration-color: #00ffff\">self</span>._IterableDataset_len_called <span style=\"color: #ff00ff; text-decoration-color: #ff00ff\">is</span> <span style=\"color: #ff00ff; text-decoration-color: #ff00ff\">not</span> <span style=\"color: #0000ff; text-decoration-color: #0000ff\">None</span> <span style=\"color: #ff00ff; text-decoration-color: #ff00ff\">and</span> \\                    <span style=\"color: #800000; text-decoration-color: #800000\">│</span>\n",
       "<span style=\"color: #800000; text-decoration-color: #800000\">│</span>                                                                                                  <span style=\"color: #800000; text-decoration-color: #800000\">│</span>\n",
       "<span style=\"color: #800000; text-decoration-color: #800000\">│</span> <span style=\"color: #bfbf7f; text-decoration-color: #bfbf7f\">/opt/conda/lib/python3.10/site-packages/torch/utils/data/</span><span style=\"color: #808000; text-decoration-color: #808000; font-weight: bold\">dataloader.py</span>:<span style=\"color: #0000ff; text-decoration-color: #0000ff\">1346</span> in <span style=\"color: #00ff00; text-decoration-color: #00ff00\">_next_data</span>        <span style=\"color: #800000; text-decoration-color: #800000\">│</span>\n",
       "<span style=\"color: #800000; text-decoration-color: #800000\">│</span>                                                                                                  <span style=\"color: #800000; text-decoration-color: #800000\">│</span>\n",
       "<span style=\"color: #800000; text-decoration-color: #800000\">│</span>   <span style=\"color: #7f7f7f; text-decoration-color: #7f7f7f\">1343 </span><span style=\"color: #7f7f7f; text-decoration-color: #7f7f7f\">│   │   │   │   </span><span style=\"color: #00ffff; text-decoration-color: #00ffff\">self</span>._task_info[idx] += (data,)                                           <span style=\"color: #800000; text-decoration-color: #800000\">│</span>\n",
       "<span style=\"color: #800000; text-decoration-color: #800000\">│</span>   <span style=\"color: #7f7f7f; text-decoration-color: #7f7f7f\">1344 </span><span style=\"color: #7f7f7f; text-decoration-color: #7f7f7f\">│   │   │   </span><span style=\"color: #0000ff; text-decoration-color: #0000ff\">else</span>:                                                                         <span style=\"color: #800000; text-decoration-color: #800000\">│</span>\n",
       "<span style=\"color: #800000; text-decoration-color: #800000\">│</span>   <span style=\"color: #7f7f7f; text-decoration-color: #7f7f7f\">1345 </span><span style=\"color: #7f7f7f; text-decoration-color: #7f7f7f\">│   │   │   │   </span><span style=\"color: #0000ff; text-decoration-color: #0000ff\">del</span> <span style=\"color: #00ffff; text-decoration-color: #00ffff\">self</span>._task_info[idx]                                                  <span style=\"color: #800000; text-decoration-color: #800000\">│</span>\n",
       "<span style=\"color: #800000; text-decoration-color: #800000\">│</span> <span style=\"color: #800000; text-decoration-color: #800000\">❱ </span>1346 <span style=\"color: #7f7f7f; text-decoration-color: #7f7f7f\">│   │   │   │   </span><span style=\"color: #0000ff; text-decoration-color: #0000ff\">return</span> <span style=\"color: #00ffff; text-decoration-color: #00ffff\">self</span>._process_data(data)                                           <span style=\"color: #800000; text-decoration-color: #800000\">│</span>\n",
       "<span style=\"color: #800000; text-decoration-color: #800000\">│</span>   <span style=\"color: #7f7f7f; text-decoration-color: #7f7f7f\">1347 </span><span style=\"color: #7f7f7f; text-decoration-color: #7f7f7f\">│   </span>                                                                                      <span style=\"color: #800000; text-decoration-color: #800000\">│</span>\n",
       "<span style=\"color: #800000; text-decoration-color: #800000\">│</span>   <span style=\"color: #7f7f7f; text-decoration-color: #7f7f7f\">1348 </span><span style=\"color: #7f7f7f; text-decoration-color: #7f7f7f\">│   </span><span style=\"color: #0000ff; text-decoration-color: #0000ff\">def</span> <span style=\"color: #00ff00; text-decoration-color: #00ff00\">_try_put_index</span>(<span style=\"color: #00ffff; text-decoration-color: #00ffff\">self</span>):                                                             <span style=\"color: #800000; text-decoration-color: #800000\">│</span>\n",
       "<span style=\"color: #800000; text-decoration-color: #800000\">│</span>   <span style=\"color: #7f7f7f; text-decoration-color: #7f7f7f\">1349 </span><span style=\"color: #7f7f7f; text-decoration-color: #7f7f7f\">│   │   </span><span style=\"color: #0000ff; text-decoration-color: #0000ff\">assert</span> <span style=\"color: #00ffff; text-decoration-color: #00ffff\">self</span>._tasks_outstanding &lt; <span style=\"color: #00ffff; text-decoration-color: #00ffff\">self</span>._prefetch_factor * <span style=\"color: #00ffff; text-decoration-color: #00ffff\">self</span>._num_workers        <span style=\"color: #800000; text-decoration-color: #800000\">│</span>\n",
       "<span style=\"color: #800000; text-decoration-color: #800000\">│</span>                                                                                                  <span style=\"color: #800000; text-decoration-color: #800000\">│</span>\n",
       "<span style=\"color: #800000; text-decoration-color: #800000\">│</span> <span style=\"color: #bfbf7f; text-decoration-color: #bfbf7f\">/opt/conda/lib/python3.10/site-packages/torch/utils/data/</span><span style=\"color: #808000; text-decoration-color: #808000; font-weight: bold\">dataloader.py</span>:<span style=\"color: #0000ff; text-decoration-color: #0000ff\">1372</span> in <span style=\"color: #00ff00; text-decoration-color: #00ff00\">_process_data</span>     <span style=\"color: #800000; text-decoration-color: #800000\">│</span>\n",
       "<span style=\"color: #800000; text-decoration-color: #800000\">│</span>                                                                                                  <span style=\"color: #800000; text-decoration-color: #800000\">│</span>\n",
       "<span style=\"color: #800000; text-decoration-color: #800000\">│</span>   <span style=\"color: #7f7f7f; text-decoration-color: #7f7f7f\">1369 </span><span style=\"color: #7f7f7f; text-decoration-color: #7f7f7f\">│   │   </span><span style=\"color: #00ffff; text-decoration-color: #00ffff\">self</span>._rcvd_idx += <span style=\"color: #0000ff; text-decoration-color: #0000ff\">1</span>                                                               <span style=\"color: #800000; text-decoration-color: #800000\">│</span>\n",
       "<span style=\"color: #800000; text-decoration-color: #800000\">│</span>   <span style=\"color: #7f7f7f; text-decoration-color: #7f7f7f\">1370 </span><span style=\"color: #7f7f7f; text-decoration-color: #7f7f7f\">│   │   </span><span style=\"color: #00ffff; text-decoration-color: #00ffff\">self</span>._try_put_index()                                                             <span style=\"color: #800000; text-decoration-color: #800000\">│</span>\n",
       "<span style=\"color: #800000; text-decoration-color: #800000\">│</span>   <span style=\"color: #7f7f7f; text-decoration-color: #7f7f7f\">1371 </span><span style=\"color: #7f7f7f; text-decoration-color: #7f7f7f\">│   │   </span><span style=\"color: #0000ff; text-decoration-color: #0000ff\">if</span> <span style=\"color: #00ffff; text-decoration-color: #00ffff\">isinstance</span>(data, ExceptionWrapper):                                            <span style=\"color: #800000; text-decoration-color: #800000\">│</span>\n",
       "<span style=\"color: #800000; text-decoration-color: #800000\">│</span> <span style=\"color: #800000; text-decoration-color: #800000\">❱ </span>1372 <span style=\"color: #7f7f7f; text-decoration-color: #7f7f7f\">│   │   │   </span>data.reraise()                                                                <span style=\"color: #800000; text-decoration-color: #800000\">│</span>\n",
       "<span style=\"color: #800000; text-decoration-color: #800000\">│</span>   <span style=\"color: #7f7f7f; text-decoration-color: #7f7f7f\">1373 </span><span style=\"color: #7f7f7f; text-decoration-color: #7f7f7f\">│   │   </span><span style=\"color: #0000ff; text-decoration-color: #0000ff\">return</span> data                                                                       <span style=\"color: #800000; text-decoration-color: #800000\">│</span>\n",
       "<span style=\"color: #800000; text-decoration-color: #800000\">│</span>   <span style=\"color: #7f7f7f; text-decoration-color: #7f7f7f\">1374 </span><span style=\"color: #7f7f7f; text-decoration-color: #7f7f7f\">│   </span>                                                                                      <span style=\"color: #800000; text-decoration-color: #800000\">│</span>\n",
       "<span style=\"color: #800000; text-decoration-color: #800000\">│</span>   <span style=\"color: #7f7f7f; text-decoration-color: #7f7f7f\">1375 </span><span style=\"color: #7f7f7f; text-decoration-color: #7f7f7f\">│   </span><span style=\"color: #0000ff; text-decoration-color: #0000ff\">def</span> <span style=\"color: #00ff00; text-decoration-color: #00ff00\">_mark_worker_as_unavailable</span>(<span style=\"color: #00ffff; text-decoration-color: #00ffff\">self</span>, worker_id, shutdown=<span style=\"color: #0000ff; text-decoration-color: #0000ff\">False</span>):                     <span style=\"color: #800000; text-decoration-color: #800000\">│</span>\n",
       "<span style=\"color: #800000; text-decoration-color: #800000\">│</span>                                                                                                  <span style=\"color: #800000; text-decoration-color: #800000\">│</span>\n",
       "<span style=\"color: #800000; text-decoration-color: #800000\">│</span> <span style=\"color: #bfbf7f; text-decoration-color: #bfbf7f\">/opt/conda/lib/python3.10/site-packages/torch/</span><span style=\"color: #808000; text-decoration-color: #808000; font-weight: bold\">_utils.py</span>:<span style=\"color: #0000ff; text-decoration-color: #0000ff\">644</span> in <span style=\"color: #00ff00; text-decoration-color: #00ff00\">reraise</span>                           <span style=\"color: #800000; text-decoration-color: #800000\">│</span>\n",
       "<span style=\"color: #800000; text-decoration-color: #800000\">│</span>                                                                                                  <span style=\"color: #800000; text-decoration-color: #800000\">│</span>\n",
       "<span style=\"color: #800000; text-decoration-color: #800000\">│</span>   <span style=\"color: #7f7f7f; text-decoration-color: #7f7f7f\">641 </span><span style=\"color: #7f7f7f; text-decoration-color: #7f7f7f\">│   │   │   </span><span style=\"color: #7f7f7f; text-decoration-color: #7f7f7f\"># If the exception takes multiple arguments, don't try to</span>                      <span style=\"color: #800000; text-decoration-color: #800000\">│</span>\n",
       "<span style=\"color: #800000; text-decoration-color: #800000\">│</span>   <span style=\"color: #7f7f7f; text-decoration-color: #7f7f7f\">642 </span><span style=\"color: #7f7f7f; text-decoration-color: #7f7f7f\">│   │   │   </span><span style=\"color: #7f7f7f; text-decoration-color: #7f7f7f\"># instantiate since we don't know how to</span>                                       <span style=\"color: #800000; text-decoration-color: #800000\">│</span>\n",
       "<span style=\"color: #800000; text-decoration-color: #800000\">│</span>   <span style=\"color: #7f7f7f; text-decoration-color: #7f7f7f\">643 </span><span style=\"color: #7f7f7f; text-decoration-color: #7f7f7f\">│   │   │   </span><span style=\"color: #0000ff; text-decoration-color: #0000ff\">raise</span> <span style=\"color: #00ffff; text-decoration-color: #00ffff\">RuntimeError</span>(msg) <span style=\"color: #0000ff; text-decoration-color: #0000ff\">from</span> <span style=\"color: #0000ff; text-decoration-color: #0000ff\">None</span>                                              <span style=\"color: #800000; text-decoration-color: #800000\">│</span>\n",
       "<span style=\"color: #800000; text-decoration-color: #800000\">│</span> <span style=\"color: #800000; text-decoration-color: #800000\">❱ </span>644 <span style=\"color: #7f7f7f; text-decoration-color: #7f7f7f\">│   │   </span><span style=\"color: #0000ff; text-decoration-color: #0000ff\">raise</span> exception                                                                    <span style=\"color: #800000; text-decoration-color: #800000\">│</span>\n",
       "<span style=\"color: #800000; text-decoration-color: #800000\">│</span>   <span style=\"color: #7f7f7f; text-decoration-color: #7f7f7f\">645 </span>                                                                                           <span style=\"color: #800000; text-decoration-color: #800000\">│</span>\n",
       "<span style=\"color: #800000; text-decoration-color: #800000\">│</span>   <span style=\"color: #7f7f7f; text-decoration-color: #7f7f7f\">646 </span>                                                                                           <span style=\"color: #800000; text-decoration-color: #800000\">│</span>\n",
       "<span style=\"color: #800000; text-decoration-color: #800000\">│</span>   <span style=\"color: #7f7f7f; text-decoration-color: #7f7f7f\">647 </span><span style=\"color: #0000ff; text-decoration-color: #0000ff\">def</span> <span style=\"color: #00ff00; text-decoration-color: #00ff00\">_get_available_device_type</span>():                                                          <span style=\"color: #800000; text-decoration-color: #800000\">│</span>\n",
       "<span style=\"color: #800000; text-decoration-color: #800000\">╰──────────────────────────────────────────────────────────────────────────────────────────────────╯</span>\n",
       "<span style=\"color: #ff0000; text-decoration-color: #ff0000; font-weight: bold\">TypeError: </span>Caught TypeError in DataLoader worker process <span style=\"color: #008080; text-decoration-color: #008080; font-weight: bold\">0</span>.\n",
       "Original Traceback <span style=\"font-weight: bold\">(</span>most recent call last<span style=\"font-weight: bold\">)</span>:\n",
       "  File <span style=\"color: #008000; text-decoration-color: #008000\">\"/opt/conda/lib/python3.10/site-packages/torch/utils/data/_utils/worker.py\"</span>, line <span style=\"color: #008080; text-decoration-color: #008080; font-weight: bold\">308</span>, in _worker_loop\n",
       "    data = <span style=\"color: #800080; text-decoration-color: #800080; font-weight: bold\">fetcher.fetch</span><span style=\"font-weight: bold\">(</span>index<span style=\"font-weight: bold\">)</span>\n",
       "  File <span style=\"color: #008000; text-decoration-color: #008000\">\"/opt/conda/lib/python3.10/site-packages/torch/utils/data/_utils/fetch.py\"</span>, line <span style=\"color: #008080; text-decoration-color: #008080; font-weight: bold\">51</span>, in fetch\n",
       "    data = <span style=\"font-weight: bold\">[</span>self.dataset<span style=\"font-weight: bold\">[</span>idx<span style=\"font-weight: bold\">]</span> for idx in possibly_batched_index<span style=\"font-weight: bold\">]</span>\n",
       "  File <span style=\"color: #008000; text-decoration-color: #008000\">\"/opt/conda/lib/python3.10/site-packages/torch/utils/data/_utils/fetch.py\"</span>, line <span style=\"color: #008080; text-decoration-color: #008080; font-weight: bold\">51</span>, in <span style=\"font-weight: bold\">&lt;</span><span style=\"color: #ff00ff; text-decoration-color: #ff00ff; font-weight: bold\">listcomp</span><span style=\"font-weight: bold\">&gt;</span>\n",
       "    data = <span style=\"font-weight: bold\">[</span>self.dataset<span style=\"font-weight: bold\">[</span>idx<span style=\"font-weight: bold\">]</span> for idx in possibly_batched_index<span style=\"font-weight: bold\">]</span>\n",
       "  File <span style=\"color: #008000; text-decoration-color: #008000\">\"/tmp/ipykernel_20/3946075407.py\"</span>, line <span style=\"color: #008080; text-decoration-color: #008080; font-weight: bold\">18</span>, in __getitem__\n",
       "    label = self.dict_labels<span style=\"font-weight: bold\">[</span>img_name_short<span style=\"font-weight: bold\">]</span>\n",
       "TypeError: unhashable type: <span style=\"color: #008000; text-decoration-color: #008000\">'list'</span>\n",
       "\n",
       "</pre>\n"
      ],
      "text/plain": [
       "\u001b[31m╭─\u001b[0m\u001b[31m──────────────────────────────\u001b[0m\u001b[31m \u001b[0m\u001b[1;31mTraceback \u001b[0m\u001b[1;2;31m(most recent call last)\u001b[0m\u001b[31m \u001b[0m\u001b[31m───────────────────────────────\u001b[0m\u001b[31m─╮\u001b[0m\n",
       "\u001b[31m│\u001b[0m in \u001b[92m<module>\u001b[0m:\u001b[94m1\u001b[0m                                                                                    \u001b[31m│\u001b[0m\n",
       "\u001b[31m│\u001b[0m                                                                                                  \u001b[31m│\u001b[0m\n",
       "\u001b[31m│\u001b[0m \u001b[31m❱ \u001b[0m1 image, label = \u001b[96mnext\u001b[0m(\u001b[96miter\u001b[0m(train_dataloader))                                                  \u001b[31m│\u001b[0m\n",
       "\u001b[31m│\u001b[0m   \u001b[2m2 \u001b[0m\u001b[96mprint\u001b[0m(image, label)                                                                          \u001b[31m│\u001b[0m\n",
       "\u001b[31m│\u001b[0m   \u001b[2m3 \u001b[0m                                                                                             \u001b[31m│\u001b[0m\n",
       "\u001b[31m│\u001b[0m                                                                                                  \u001b[31m│\u001b[0m\n",
       "\u001b[31m│\u001b[0m \u001b[2;33m/opt/conda/lib/python3.10/site-packages/torch/utils/data/\u001b[0m\u001b[1;33mdataloader.py\u001b[0m:\u001b[94m634\u001b[0m in \u001b[92m__next__\u001b[0m           \u001b[31m│\u001b[0m\n",
       "\u001b[31m│\u001b[0m                                                                                                  \u001b[31m│\u001b[0m\n",
       "\u001b[31m│\u001b[0m   \u001b[2m 631 \u001b[0m\u001b[2m│   │   │   \u001b[0m\u001b[94mif\u001b[0m \u001b[96mself\u001b[0m._sampler_iter \u001b[95mis\u001b[0m \u001b[94mNone\u001b[0m:                                                \u001b[31m│\u001b[0m\n",
       "\u001b[31m│\u001b[0m   \u001b[2m 632 \u001b[0m\u001b[2m│   │   │   │   \u001b[0m\u001b[2m# TODO(https://github.com/pytorch/pytorch/issues/76750)\u001b[0m                   \u001b[31m│\u001b[0m\n",
       "\u001b[31m│\u001b[0m   \u001b[2m 633 \u001b[0m\u001b[2m│   │   │   │   \u001b[0m\u001b[96mself\u001b[0m._reset()  \u001b[2m# type: ignore[call-arg]\u001b[0m                                   \u001b[31m│\u001b[0m\n",
       "\u001b[31m│\u001b[0m \u001b[31m❱ \u001b[0m 634 \u001b[2m│   │   │   \u001b[0mdata = \u001b[96mself\u001b[0m._next_data()                                                      \u001b[31m│\u001b[0m\n",
       "\u001b[31m│\u001b[0m   \u001b[2m 635 \u001b[0m\u001b[2m│   │   │   \u001b[0m\u001b[96mself\u001b[0m._num_yielded += \u001b[94m1\u001b[0m                                                        \u001b[31m│\u001b[0m\n",
       "\u001b[31m│\u001b[0m   \u001b[2m 636 \u001b[0m\u001b[2m│   │   │   \u001b[0m\u001b[94mif\u001b[0m \u001b[96mself\u001b[0m._dataset_kind == _DatasetKind.Iterable \u001b[95mand\u001b[0m \\                          \u001b[31m│\u001b[0m\n",
       "\u001b[31m│\u001b[0m   \u001b[2m 637 \u001b[0m\u001b[2m│   │   │   │   │   \u001b[0m\u001b[96mself\u001b[0m._IterableDataset_len_called \u001b[95mis\u001b[0m \u001b[95mnot\u001b[0m \u001b[94mNone\u001b[0m \u001b[95mand\u001b[0m \\                    \u001b[31m│\u001b[0m\n",
       "\u001b[31m│\u001b[0m                                                                                                  \u001b[31m│\u001b[0m\n",
       "\u001b[31m│\u001b[0m \u001b[2;33m/opt/conda/lib/python3.10/site-packages/torch/utils/data/\u001b[0m\u001b[1;33mdataloader.py\u001b[0m:\u001b[94m1346\u001b[0m in \u001b[92m_next_data\u001b[0m        \u001b[31m│\u001b[0m\n",
       "\u001b[31m│\u001b[0m                                                                                                  \u001b[31m│\u001b[0m\n",
       "\u001b[31m│\u001b[0m   \u001b[2m1343 \u001b[0m\u001b[2m│   │   │   │   \u001b[0m\u001b[96mself\u001b[0m._task_info[idx] += (data,)                                           \u001b[31m│\u001b[0m\n",
       "\u001b[31m│\u001b[0m   \u001b[2m1344 \u001b[0m\u001b[2m│   │   │   \u001b[0m\u001b[94melse\u001b[0m:                                                                         \u001b[31m│\u001b[0m\n",
       "\u001b[31m│\u001b[0m   \u001b[2m1345 \u001b[0m\u001b[2m│   │   │   │   \u001b[0m\u001b[94mdel\u001b[0m \u001b[96mself\u001b[0m._task_info[idx]                                                  \u001b[31m│\u001b[0m\n",
       "\u001b[31m│\u001b[0m \u001b[31m❱ \u001b[0m1346 \u001b[2m│   │   │   │   \u001b[0m\u001b[94mreturn\u001b[0m \u001b[96mself\u001b[0m._process_data(data)                                           \u001b[31m│\u001b[0m\n",
       "\u001b[31m│\u001b[0m   \u001b[2m1347 \u001b[0m\u001b[2m│   \u001b[0m                                                                                      \u001b[31m│\u001b[0m\n",
       "\u001b[31m│\u001b[0m   \u001b[2m1348 \u001b[0m\u001b[2m│   \u001b[0m\u001b[94mdef\u001b[0m \u001b[92m_try_put_index\u001b[0m(\u001b[96mself\u001b[0m):                                                             \u001b[31m│\u001b[0m\n",
       "\u001b[31m│\u001b[0m   \u001b[2m1349 \u001b[0m\u001b[2m│   │   \u001b[0m\u001b[94massert\u001b[0m \u001b[96mself\u001b[0m._tasks_outstanding < \u001b[96mself\u001b[0m._prefetch_factor * \u001b[96mself\u001b[0m._num_workers        \u001b[31m│\u001b[0m\n",
       "\u001b[31m│\u001b[0m                                                                                                  \u001b[31m│\u001b[0m\n",
       "\u001b[31m│\u001b[0m \u001b[2;33m/opt/conda/lib/python3.10/site-packages/torch/utils/data/\u001b[0m\u001b[1;33mdataloader.py\u001b[0m:\u001b[94m1372\u001b[0m in \u001b[92m_process_data\u001b[0m     \u001b[31m│\u001b[0m\n",
       "\u001b[31m│\u001b[0m                                                                                                  \u001b[31m│\u001b[0m\n",
       "\u001b[31m│\u001b[0m   \u001b[2m1369 \u001b[0m\u001b[2m│   │   \u001b[0m\u001b[96mself\u001b[0m._rcvd_idx += \u001b[94m1\u001b[0m                                                               \u001b[31m│\u001b[0m\n",
       "\u001b[31m│\u001b[0m   \u001b[2m1370 \u001b[0m\u001b[2m│   │   \u001b[0m\u001b[96mself\u001b[0m._try_put_index()                                                             \u001b[31m│\u001b[0m\n",
       "\u001b[31m│\u001b[0m   \u001b[2m1371 \u001b[0m\u001b[2m│   │   \u001b[0m\u001b[94mif\u001b[0m \u001b[96misinstance\u001b[0m(data, ExceptionWrapper):                                            \u001b[31m│\u001b[0m\n",
       "\u001b[31m│\u001b[0m \u001b[31m❱ \u001b[0m1372 \u001b[2m│   │   │   \u001b[0mdata.reraise()                                                                \u001b[31m│\u001b[0m\n",
       "\u001b[31m│\u001b[0m   \u001b[2m1373 \u001b[0m\u001b[2m│   │   \u001b[0m\u001b[94mreturn\u001b[0m data                                                                       \u001b[31m│\u001b[0m\n",
       "\u001b[31m│\u001b[0m   \u001b[2m1374 \u001b[0m\u001b[2m│   \u001b[0m                                                                                      \u001b[31m│\u001b[0m\n",
       "\u001b[31m│\u001b[0m   \u001b[2m1375 \u001b[0m\u001b[2m│   \u001b[0m\u001b[94mdef\u001b[0m \u001b[92m_mark_worker_as_unavailable\u001b[0m(\u001b[96mself\u001b[0m, worker_id, shutdown=\u001b[94mFalse\u001b[0m):                     \u001b[31m│\u001b[0m\n",
       "\u001b[31m│\u001b[0m                                                                                                  \u001b[31m│\u001b[0m\n",
       "\u001b[31m│\u001b[0m \u001b[2;33m/opt/conda/lib/python3.10/site-packages/torch/\u001b[0m\u001b[1;33m_utils.py\u001b[0m:\u001b[94m644\u001b[0m in \u001b[92mreraise\u001b[0m                           \u001b[31m│\u001b[0m\n",
       "\u001b[31m│\u001b[0m                                                                                                  \u001b[31m│\u001b[0m\n",
       "\u001b[31m│\u001b[0m   \u001b[2m641 \u001b[0m\u001b[2m│   │   │   \u001b[0m\u001b[2m# If the exception takes multiple arguments, don't try to\u001b[0m                      \u001b[31m│\u001b[0m\n",
       "\u001b[31m│\u001b[0m   \u001b[2m642 \u001b[0m\u001b[2m│   │   │   \u001b[0m\u001b[2m# instantiate since we don't know how to\u001b[0m                                       \u001b[31m│\u001b[0m\n",
       "\u001b[31m│\u001b[0m   \u001b[2m643 \u001b[0m\u001b[2m│   │   │   \u001b[0m\u001b[94mraise\u001b[0m \u001b[96mRuntimeError\u001b[0m(msg) \u001b[94mfrom\u001b[0m \u001b[94mNone\u001b[0m                                              \u001b[31m│\u001b[0m\n",
       "\u001b[31m│\u001b[0m \u001b[31m❱ \u001b[0m644 \u001b[2m│   │   \u001b[0m\u001b[94mraise\u001b[0m exception                                                                    \u001b[31m│\u001b[0m\n",
       "\u001b[31m│\u001b[0m   \u001b[2m645 \u001b[0m                                                                                           \u001b[31m│\u001b[0m\n",
       "\u001b[31m│\u001b[0m   \u001b[2m646 \u001b[0m                                                                                           \u001b[31m│\u001b[0m\n",
       "\u001b[31m│\u001b[0m   \u001b[2m647 \u001b[0m\u001b[94mdef\u001b[0m \u001b[92m_get_available_device_type\u001b[0m():                                                          \u001b[31m│\u001b[0m\n",
       "\u001b[31m╰──────────────────────────────────────────────────────────────────────────────────────────────────╯\u001b[0m\n",
       "\u001b[1;91mTypeError: \u001b[0mCaught TypeError in DataLoader worker process \u001b[1;36m0\u001b[0m.\n",
       "Original Traceback \u001b[1m(\u001b[0mmost recent call last\u001b[1m)\u001b[0m:\n",
       "  File \u001b[32m\"/opt/conda/lib/python3.10/site-packages/torch/utils/data/_utils/worker.py\"\u001b[0m, line \u001b[1;36m308\u001b[0m, in _worker_loop\n",
       "    data = \u001b[1;35mfetcher.fetch\u001b[0m\u001b[1m(\u001b[0mindex\u001b[1m)\u001b[0m\n",
       "  File \u001b[32m\"/opt/conda/lib/python3.10/site-packages/torch/utils/data/_utils/fetch.py\"\u001b[0m, line \u001b[1;36m51\u001b[0m, in fetch\n",
       "    data = \u001b[1m[\u001b[0mself.dataset\u001b[1m[\u001b[0midx\u001b[1m]\u001b[0m for idx in possibly_batched_index\u001b[1m]\u001b[0m\n",
       "  File \u001b[32m\"/opt/conda/lib/python3.10/site-packages/torch/utils/data/_utils/fetch.py\"\u001b[0m, line \u001b[1;36m51\u001b[0m, in \u001b[1m<\u001b[0m\u001b[1;95mlistcomp\u001b[0m\u001b[1m>\u001b[0m\n",
       "    data = \u001b[1m[\u001b[0mself.dataset\u001b[1m[\u001b[0midx\u001b[1m]\u001b[0m for idx in possibly_batched_index\u001b[1m]\u001b[0m\n",
       "  File \u001b[32m\"/tmp/ipykernel_20/3946075407.py\"\u001b[0m, line \u001b[1;36m18\u001b[0m, in __getitem__\n",
       "    label = self.dict_labels\u001b[1m[\u001b[0mimg_name_short\u001b[1m]\u001b[0m\n",
       "TypeError: unhashable type: \u001b[32m'list'\u001b[0m\n",
       "\n"
      ]
     },
     "metadata": {},
     "output_type": "display_data"
    }
   ],
   "source": [
    "image, label = next(iter(train_dataloader))\n",
    "print(image, label)"
   ]
  },
  {
   "cell_type": "markdown",
   "id": "c709f1f7",
   "metadata": {
    "papermill": {
     "duration": null,
     "end_time": null,
     "exception": null,
     "start_time": null,
     "status": "pending"
    },
    "tags": []
   },
   "source": [
    "In the preceding code snippet, we have the following:\n",
    "1. We started with the original data without the subfolders as expected by the PyTorch Lightning module. The data was downsampled and saved on Google Drive's persistent storage.\n",
    "2. Using the LoadCancerDataset custom class, we created two datasets train_ set and test_set, by reading images and their labels.\n",
    "3. In the process of creating datasets, we also used the Torchvision transform module to crop the images to the center, that is, converting images to the square of 32 x 32 px and also converting images to tensors.\n",
    "4. In the final step, the two train_set and test_set datasets that were created are used to create two train_dataloader and test_dataloader data loaders for them.\n",
    "\n",
    "At this point, we are ready with our train_dataloader data loader with around 8,000 images, and test_dataloader with around 2,000 images. All the images are of size 32 x 32, converted to tensor form, and served in batches of 256 images. We will use the train data loader to train our model and the test data loader to measure our model's accuracy."
   ]
  },
  {
   "cell_type": "code",
   "execution_count": null,
   "id": "7622d037",
   "metadata": {
    "papermill": {
     "duration": null,
     "end_time": null,
     "exception": null,
     "start_time": null,
     "status": "pending"
    },
    "tags": []
   },
   "outputs": [],
   "source": []
  }
 ],
 "metadata": {
  "kernelspec": {
   "display_name": "Python 3",
   "language": "python",
   "name": "python3"
  },
  "language_info": {
   "codemirror_mode": {
    "name": "ipython",
    "version": 3
   },
   "file_extension": ".py",
   "mimetype": "text/x-python",
   "name": "python",
   "nbconvert_exporter": "python",
   "pygments_lexer": "ipython3",
   "version": "3.10.12"
  },
  "papermill": {
   "default_parameters": {},
   "duration": 150.233281,
   "end_time": "2023-08-26T09:17:44.621143",
   "environment_variables": {},
   "exception": true,
   "input_path": "__notebook__.ipynb",
   "output_path": "__notebook__.ipynb",
   "parameters": {},
   "start_time": "2023-08-26T09:15:14.387862",
   "version": "2.4.0"
  }
 },
 "nbformat": 4,
 "nbformat_minor": 5
}
